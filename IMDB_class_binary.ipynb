{
  "nbformat": 4,
  "nbformat_minor": 0,
  "metadata": {
    "colab": {
      "private_outputs": true,
      "provenance": [],
      "gpuType": "T4",
      "authorship_tag": "ABX9TyMsEbVLFelrS7ZPcjYBNY2I",
      "include_colab_link": true
    },
    "kernelspec": {
      "name": "python3",
      "display_name": "Python 3"
    },
    "language_info": {
      "name": "python"
    },
    "accelerator": "GPU"
  },
  "cells": [
    {
      "cell_type": "markdown",
      "metadata": {
        "id": "view-in-github",
        "colab_type": "text"
      },
      "source": [
        "<a href=\"https://colab.research.google.com/github/Elzoghost/Classification_des_critiques_de_films/blob/main/IMDB_class_binary.ipynb\" target=\"_parent\"><img src=\"https://colab.research.google.com/assets/colab-badge.svg\" alt=\"Open In Colab\"/></a>"
      ]
    },
    {
      "cell_type": "code",
      "source": [
        "import numpy as np\n",
        "import matplotlib.pyplot as plt\n",
        "from keras.datasets import imdb\n",
        "from keras.preprocessing import sequence\n",
        "from keras.models import Sequential\n",
        "from keras.layers import Embedding, LSTM, Dense\n",
        "from keras.callbacks import EarlyStopping, ModelCheckpoint, ReduceLROnPlateau\n",
        "from sklearn.metrics import classification_report, confusion_matrix, accuracy_score, f1_score"
      ],
      "metadata": {
        "id": "-XLhx-OO-VVQ"
      },
      "execution_count": null,
      "outputs": []
    },
    {
      "cell_type": "code",
      "source": [
        "# Chargement des données\n",
        "max_features = 10000\n",
        "max_len = 9999\n",
        "(x_train, y_train), (x_test, y_test) = imdb.load_data(num_words=max_features)\n",
        "x_train = sequence.pad_sequences(x_train, maxlen=max_len)\n",
        "x_test = sequence.pad_sequences(x_test, maxlen=max_len)"
      ],
      "metadata": {
        "id": "6xyO0_bg-XY9"
      },
      "execution_count": null,
      "outputs": []
    },
    {
      "cell_type": "code",
      "source": [
        "# Création du modèle\n",
        "model = Sequential()\n",
        "model.add(Embedding(max_features, 128, input_length=max_len))\n",
        "model.add(LSTM(128))\n",
        "model.add(Dense(1, activation='sigmoid'))"
      ],
      "metadata": {
        "id": "jLtHvSyj-acr"
      },
      "execution_count": null,
      "outputs": []
    },
    {
      "cell_type": "code",
      "source": [
        "# Compilation du modèle\n",
        "model.compile(loss='binary_crossentropy', optimizer='adam', metrics=['accuracy'])"
      ],
      "metadata": {
        "id": "R5nqoBfH-dBk"
      },
      "execution_count": null,
      "outputs": []
    },
    {
      "cell_type": "code",
      "source": [
        "# Callbacks\n",
        "early_stopping = EarlyStopping(monitor='val_loss', patience=3, restore_best_weights=True)\n",
        "model_checkpoint = ModelCheckpoint('best_model.h5', monitor='val_loss', save_best_only=True)\n",
        "reduce_lr = ReduceLROnPlateau(monitor='val_loss', factor=0.2, patience=2)"
      ],
      "metadata": {
        "id": "1YpZ38AR-fwq"
      },
      "execution_count": null,
      "outputs": []
    },
    {
      "cell_type": "code",
      "source": [
        "# Entraînement du modèle\n",
        "history = model.fit(x_train, y_train, epochs=10, batch_size=64, validation_split=0.2,\n",
        "                    callbacks=[early_stopping, model_checkpoint, reduce_lr])"
      ],
      "metadata": {
        "id": "fDmnA0e6-jE0"
      },
      "execution_count": null,
      "outputs": []
    },
    {
      "cell_type": "code",
      "source": [
        "# Chargement du meilleur modèle\n",
        "model.load_weights('best_model.h5')"
      ],
      "metadata": {
        "id": "ncnZC7CF-lhd"
      },
      "execution_count": null,
      "outputs": []
    },
    {
      "cell_type": "code",
      "source": [
        "# Évaluation du modèle\n",
        "loss, accuracy = model.evaluate(x_test, y_test)\n",
        "y_pred = (model.predict(x_test) >= 0.5).astype(int)\n",
        "f1 = f1_score(y_test, y_pred)\n",
        "print(f'Perte (Loss): {loss}, Précision (Accuracy): {accuracy}, F1-Score: {f1}')"
      ],
      "metadata": {
        "id": "7LVVV0LS-oHq"
      },
      "execution_count": null,
      "outputs": []
    },
    {
      "cell_type": "code",
      "source": [
        "# Matrice de confusion et rapport de classification\n",
        "confusion = confusion_matrix(y_test, y_pred)\n",
        "classification_rep = classification_report(y_test, y_pred, target_names=['Negatif', 'Positif'])\n",
        "\n",
        "print(\"Matrice de confusion:\\n\", confusion)\n",
        "print(\"\\nRapport de classification:\\n\", classification_rep)"
      ],
      "metadata": {
        "id": "ARubM2-e-qk8"
      },
      "execution_count": null,
      "outputs": []
    },
    {
      "cell_type": "code",
      "source": [
        "from keras.models import load_model\n",
        "loaded_model = load_model('best_model.h5')\n"
      ],
      "metadata": {
        "id": "_Ro_CJ-hNhyS"
      },
      "execution_count": null,
      "outputs": []
    },
    {
      "cell_type": "code",
      "source": [
        "# Remplacez 'new_review_text' par la nouvelle critique de film que vous souhaitez classifier.\n",
        "new_review_text = \"This movie was not  amazing! I do not loved every moment of it.\"\n",
        "\n",
        "# Prétraitement de la nouvelle critique de film (remplacez cette étape par le prétraitement utilisé lors de l'entraînement).\n",
        "new_review = [imdb.get_word_index().get(word.lower(), 0) for word in new_review_text.split()]\n",
        "new_review = sequence.pad_sequences([new_review], maxlen=max_len)\n",
        "\n",
        "# Prédiction avec le modèle chargé.\n",
        "prediction = loaded_model.predict(new_review)\n",
        "\n",
        "# Interprétation de la prédiction (par exemple, si la valeur prédite est >= 0.5, considérez la critique comme positive).\n",
        "if prediction >= 0.5:\n",
        "    print(\"Critique positive\")\n",
        "else:\n",
        "    print(\"Critique négative\")"
      ],
      "metadata": {
        "id": "JTBAF2yl-5u6"
      },
      "execution_count": null,
      "outputs": []
    },
    {
      "cell_type": "code",
      "source": [
        "# Tracer les graphes de la perte et de la précision\n",
        "plt.figure(figsize=(12, 4))\n",
        "plt.subplot(1, 2, 1)\n",
        "plt.plot(history.history['loss'], label='Perte (Loss)')\n",
        "plt.title('Évolution de la perte pendant l\\'entraînement')\n",
        "plt.xlabel('Époques')\n",
        "plt.ylabel('Perte')\n",
        "plt.grid()\n",
        "\n",
        "plt.subplot(1, 2, 2)\n",
        "plt.plot(history.history['accuracy'], label='Précision (Accuracy)')\n",
        "plt.title('Évolution de la précision pendant l\\'entraînement')\n",
        "plt.xlabel('Époques')\n",
        "plt.ylabel('Précision')\n",
        "plt.grid()\n",
        "\n",
        "plt.show()"
      ],
      "metadata": {
        "id": "DfzS7ga_-yD0"
      },
      "execution_count": null,
      "outputs": []
    }
  ]
}