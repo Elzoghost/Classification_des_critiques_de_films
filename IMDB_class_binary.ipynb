{
  "nbformat": 4,
  "nbformat_minor": 0,
  "metadata": {
    "colab": {
      "private_outputs": true,
      "provenance": [],
      "gpuType": "T4",
      "authorship_tag": "ABX9TyOyaB85ApKG/7h9Rd79aOIX",
      "include_colab_link": true
    },
    "kernelspec": {
      "name": "python3",
      "display_name": "Python 3"
    },
    "language_info": {
      "name": "python"
    },
    "accelerator": "GPU"
  },
  "cells": [
    {
      "cell_type": "markdown",
      "metadata": {
        "id": "view-in-github",
        "colab_type": "text"
      },
      "source": [
        "<a href=\"https://colab.research.google.com/github/Elzoghost/Classification_des_critiques_de_films/blob/main/IMDB_class_binary.ipynb\" target=\"_parent\"><img src=\"https://colab.research.google.com/assets/colab-badge.svg\" alt=\"Open In Colab\"/></a>"
      ]
    },
    {
      "cell_type": "code",
      "source": [
        "import numpy as np\n",
        "import matplotlib.pyplot as plt\n",
        "import matplotlib_inline\n",
        "from keras.datasets import imdb\n",
        "from keras.preprocessing import sequence\n",
        "from keras.models import Sequential\n",
        "from keras.layers import Embedding, LSTM, Dense"
      ],
      "metadata": {
        "id": "a_XWMsUq1mH2"
      },
      "execution_count": null,
      "outputs": []
    },
    {
      "cell_type": "code",
      "source": [
        "# Chargement des données\n",
        "max_features = 10000  # Limiter le nombre de mots du vocabulaire\n",
        "max_len = 9999  # Limiter la longueur des séquences\n",
        "(x_train, y_train), (x_test, y_test) = imdb.load_data(num_words=max_features)\n",
        "x_train = sequence.pad_sequences(x_train, maxlen=max_len)\n",
        "x_test = sequence.pad_sequences(x_test, maxlen=max_len)"
      ],
      "metadata": {
        "id": "q5N6c0q-1oy1"
      },
      "execution_count": null,
      "outputs": []
    },
    {
      "cell_type": "code",
      "source": [
        "# Création du modèle\n",
        "model = Sequential()\n",
        "model.add(Embedding(max_features, 128, input_length=max_len))\n",
        "model.add(LSTM(128))\n",
        "model.add(Dense(1, activation='sigmoid'))"
      ],
      "metadata": {
        "id": "PeqdKly21rnZ"
      },
      "execution_count": null,
      "outputs": []
    },
    {
      "cell_type": "code",
      "source": [
        "# Compilation du modèle\n",
        "model.compile(loss='binary_crossentropy', optimizer='adam', metrics=['accuracy'])"
      ],
      "metadata": {
        "id": "olhgNZkM1vY5"
      },
      "execution_count": null,
      "outputs": []
    },
    {
      "cell_type": "code",
      "source": [
        "# Listes pour stocker les valeurs de perte et de précision à chaque étape\n",
        "loss_values = []\n",
        "accuracy_values = []\n",
        "\n",
        "# Entraînement du modèle\n",
        "epochs = 3\n",
        "batch_size = 64\n",
        "for epoch in range(epochs):\n",
        "    history = model.fit(x_train, y_train, epochs=1, batch_size=batch_size, validation_split=0.2)\n",
        "    loss_values.append(history.history['loss'][0])\n",
        "    accuracy_values.append(history.history['accuracy'][0])"
      ],
      "metadata": {
        "id": "ksehg6eh12Qv"
      },
      "execution_count": null,
      "outputs": []
    },
    {
      "cell_type": "code",
      "source": [
        "# Évaluation du modèle\n",
        "loss, accuracy = model.evaluate(x_test, y_test)\n",
        "print(f'Perte (Loss): {loss}, Précision (Accuracy): {accuracy}')"
      ],
      "metadata": {
        "id": "750Iipev16DY"
      },
      "execution_count": null,
      "outputs": []
    },
    {
      "cell_type": "code",
      "source": [
        "# Prédiction sur de nouvelles données\n",
        "new_review = \"This movie was great! I loved it.\"\n",
        "new_review = [imdb.get_word_index().get(word.lower(), 0) for word in new_review.split()]\n",
        "new_review = sequence.pad_sequences([new_review], maxlen=max_len)\n",
        "prediction = model.predict(new_review)\n",
        "if prediction >= 0.5:\n",
        "    print(\"Critique positive\")\n",
        "else:\n",
        "    print(\"Critique négative\")"
      ],
      "metadata": {
        "id": "YReeHrK619f-"
      },
      "execution_count": null,
      "outputs": []
    },
    {
      "cell_type": "code",
      "source": [
        "# Tracer les graphes de la perte et de la précision\n",
        "plt.figure(figsize=(12, 4))\n",
        "plt.subplot(1, 2, 1)\n",
        "plt.plot(loss_values, label='Perte (Loss)')\n",
        "plt.title('Évolution de la perte pendant l\\'entraînement')\n",
        "plt.xlabel('Époques')\n",
        "plt.ylabel('Perte')\n",
        "plt.grid()"
      ],
      "metadata": {
        "id": "trQyuXAi2BWh"
      },
      "execution_count": null,
      "outputs": []
    },
    {
      "cell_type": "code",
      "source": [
        "plt.subplot(1, 2, 2)\n",
        "plt.plot(accuracy_values, label='Précision (Accuracy)')\n",
        "plt.title('Évolution de la précision pendant l\\'entraînement')\n",
        "plt.xlabel('Époques')\n",
        "plt.ylabel('Précision')\n",
        "plt.grid()\n",
        "\n",
        "plt.show()\n"
      ],
      "metadata": {
        "id": "Koz9bK8p1jRi"
      },
      "execution_count": null,
      "outputs": []
    }
  ]
}